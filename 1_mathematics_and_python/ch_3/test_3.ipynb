{
 "cells": [
  {
   "cell_type": "markdown",
   "metadata": {},
   "source": [
    "# Задание по программированию: Оптимизация в Python: глобальная оптимизация и оптимизация негладкой функции"
   ]
  },
  {
   "cell_type": "markdown",
   "metadata": {},
   "source": [
    "\n",
    "## Задача 1. Минимизация гладкой функции"
   ]
  },
  {
   "cell_type": "code",
   "execution_count": 1,
   "metadata": {},
   "outputs": [
    {
     "name": "stdout",
     "output_type": "stream",
     "text": [
      "min2       fun: 1.745268290344928\n",
      " hess_inv: array([[5.98750711]])\n",
      "      jac: array([-2.05636024e-06])\n",
      "  message: 'Optimization terminated successfully.'\n",
      "     nfev: 14\n",
      "      nit: 6\n",
      "     njev: 7\n",
      "   status: 0\n",
      "  success: True\n",
      "        x: array([4.13627619])\n",
      "min30       fun: -11.898894665981322\n",
      " hess_inv: array([[1.67940841]])\n",
      "      jac: array([0.])\n",
      "  message: 'Optimization terminated successfully.'\n",
      "     nfev: 14\n",
      "      nit: 6\n",
      "     njev: 7\n",
      "   status: 0\n",
      "  success: True\n",
      "        x: array([25.880193])\n"
     ]
    },
    {
     "data": {
      "text/plain": [
       "<matplotlib.legend.Legend at 0x7f88e3864ca0>"
      ]
     },
     "execution_count": 1,
     "metadata": {},
     "output_type": "execute_result"
    },
    {
     "data": {
      "image/png": "[encoded data removed]",
      "text/plain": [
       "<Figure size 432x288 with 1 Axes>"
      ]
     },
     "metadata": {
      "needs_background": "light"
     },
     "output_type": "display_data"
    }
   ],
   "source": [
    "import math\n",
    "from scipy.optimize import minimize\n",
    "import matplotlib.pyplot as plt\n",
    "\n",
    "# f(x) = sin(x / 5) * exp(x / 10) + 5 * exp(-x / 2)\n",
    "def f(x):\n",
    "    return math.sin(x / 5.0) * math.exp(x / 10.0) + 5 * math.exp(-x / 2.0)\n",
    "\n",
    "# print(minimize(f, [1]))\n",
    "# print()\n",
    "# for i in range(1, 30):\n",
    "#     min = minimize(f, [i]).x\n",
    "#     print(\"x0 = \" + str(i) + \", f(\" + str(min) + \") = \" + str(f(min)))\n",
    "\n",
    "min_2 = minimize(f, [2], method = 'BFGS')\n",
    "min_30 = minimize(f, [30], method = 'BFGS')\n",
    "print('min2', min_2)\n",
    "print('min30', min_30)\n",
    "with open(\"result_1.txt\", 'w') as file1:\n",
    "    file1.write(str(round(min_2.fun, 2)) + \" \" + str(round(min_30.fun, 2)))\n",
    "\n",
    "mins = [min_2.x[0], min_30.x[0]]\n",
    "fig, ax = plt.subplots()  # Create a figure containing a single axes.\n",
    "ax.set_title(\"f(x)\")  # Add a title to the axes.\n",
    "ax.plot([x for x in range(1,31)], [f(x) for x in range(1,31)], label = 'f')\n",
    "ax.plot(mins, [f(x) for x in mins], 'rx')\n",
    "[ax.annotate('x = ' + str(x), (x, f(x))) for x in mins]\n",
    "ax.set_xlabel('x')  # Add an x-label to the axes.\n",
    "ax.set_ylabel('y')  # Add a y-label to the axes.\n",
    "ax.legend()  # Add a legend.\n"
   ]
  },
  {
   "cell_type": "markdown",
   "metadata": {},
   "source": [
    "## Задача 2. Глобальная оптимизация"
   ]
  },
  {
   "cell_type": "code",
   "execution_count": 2,
   "metadata": {},
   "outputs": [
    {
     "name": "stdout",
     "output_type": "stream",
     "text": [
      "     fun: -11.898894665981237\n",
      "     jac: array([5.32907008e-07])\n",
      " message: 'Optimization terminated successfully.'\n",
      "    nfev: 98\n",
      "     nit: 5\n",
      " success: True\n",
      "       x: array([25.88019357])\n"
     ]
    }
   ],
   "source": [
    "from scipy.optimize import differential_evolution as de\n",
    "\n",
    "# f(x) = sin(x / 5) * exp(x / 10) + 5 * exp(-x / 2)\n",
    "def f(x):\n",
    "    return math.sin(x / 5.0) * math.exp(x / 10.0) + 5 * math.exp(-x / 2.0)\n",
    "\n",
    "glob_min_de = de(f,[(1, 30)])\n",
    "print(glob_min_de)\n",
    "with open('result_2.txt', 'w') as file2:\n",
    "    file2.write(str(round(glob_min_de.fun, 2)))"
   ]
  },
  {
   "cell_type": "markdown",
   "metadata": {},
   "source": [
    "## Задача 3. Минимизация негладкой функции"
   ]
  },
  {
   "cell_type": "code",
   "execution_count": 10,
   "metadata": {},
   "outputs": [
    {
     "name": "stdout",
     "output_type": "stream",
     "text": [
      "BFGS [5]\n",
      "      fun: 1\n",
      " hess_inv: array([[1]])\n",
      "      jac: array([0.])\n",
      "  message: 'Optimization terminated successfully.'\n",
      "     nfev: 2\n",
      "      nit: 0\n",
      "     njev: 1\n",
      "   status: 0\n",
      "  success: True\n",
      "        x: array([5.])\n",
      "BFGS [25]\n",
      "      fun: -11\n",
      " hess_inv: array([[1]])\n",
      "      jac: array([0.])\n",
      "  message: 'Optimization terminated successfully.'\n",
      "     nfev: 2\n",
      "      nit: 0\n",
      "     njev: 1\n",
      "   status: 0\n",
      "  success: True\n",
      "        x: array([25.])\n",
      "BFGS [30]\n",
      "      fun: -5\n",
      " hess_inv: array([[1]])\n",
      "      jac: array([0.])\n",
      "  message: 'Optimization terminated successfully.'\n",
      "     nfev: 2\n",
      "      nit: 0\n",
      "     njev: 1\n",
      "   status: 0\n",
      "  success: True\n",
      "        x: array([30.])\n",
      "de\n",
      "     fun: -11.0\n",
      " message: 'Optimization terminated successfully.'\n",
      "    nfev: 107\n",
      "     nit: 6\n",
      " success: True\n",
      "       x: array([26.38277866])\n"
     ]
    },
    {
     "data": {
      "image/png": "[encoded data removed]",
      "text/plain": [
       "<Figure size 432x288 with 1 Axes>"
      ]
     },
     "metadata": {
      "needs_background": "light"
     },
     "output_type": "display_data"
    }
   ],
   "source": [
    "import matplotlib.pyplot as plt\n",
    "from scipy.optimize import minimize, differential_evolution as de\n",
    "import numpy as np\n",
    "\n",
    "\n",
    "# f(x) = sin(x / 5) * exp(x / 10) + 5 * exp(-x / 2)\n",
    "def f(x):\n",
    "    return math.sin(x / 5.0) * math.exp(x / 10.0) + 5 * math.exp(-x / 2.0)\n",
    "\n",
    "# h(x) = int(f(x))\n",
    "def h(x):\n",
    "    return int(f(x))\n",
    "\n",
    "fig, ax = plt.subplots()\n",
    "ax.set_title(\"h(x)\")  # Add a title to the axes.\n",
    "ax.plot([x for x in np.arange(1,31, 0.1)], [h(x) for x in np.arange(1,31, 0.1)], label = 'f')\n",
    "# ax.plot(mins, [f(x) for x in mins], 'rx')\n",
    "# [ax.annotate('x = ' + str(x), (x, f(x))) for x in mins]\n",
    "ax.set_xlabel('x')  # Add an x-label to the axes.\n",
    "ax.set_ylabel('y')  # Add a y-label to the axes.\n",
    "ax.legend()  # Add a legend.\n",
    "\n",
    "\n",
    "min_bfgs_5 = minimize(h, [5], method = 'BFGS')\n",
    "print('BFGS [5]')\n",
    "print(min_bfgs_5)\n",
    "min_bfgs_25 = minimize(h, [25], method = 'BFGS')\n",
    "print('BFGS [25]')\n",
    "print(min_bfgs_25)\n",
    "\n",
    "min_bfgs_30 = minimize(h, [30], method = 'BFGS')\n",
    "print('BFGS [30]')\n",
    "print(min_bfgs_30)\n",
    "min_de = de(h, [(1, 30)])\n",
    "print('de')\n",
    "print(min_de)\n",
    "\n",
    "with open('result_3.txt', 'w') as file3:\n",
    "    file3.write(str(round(min_bfgs_30.fun, 2)) + ' ' + str(round(min_de.fun, 2)))"
   ]
  },
  {
   "cell_type": "code",
   "execution_count": null,
   "metadata": {},
   "outputs": [],
   "source": []
  }
 ],
 "metadata": {
  "kernelspec": {
   "display_name": "Python 3",
   "language": "python",
   "name": "python3"
  },
  "language_info": {
   "codemirror_mode": {
    "name": "ipython",
    "version": 3
   },
   "file_extension": ".py",
   "mimetype": "text/x-python",
   "name": "python",
   "nbconvert_exporter": "python",
   "pygments_lexer": "ipython3",
   "version": "3.8.5"
  }
 },
 "nbformat": 4,
 "nbformat_minor": 4
}
